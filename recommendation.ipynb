{
 "cells": [
  {
   "cell_type": "code",
   "execution_count": null,
   "id": "6a0c56bb",
   "metadata": {},
   "outputs": [],
   "source": [
    "import pandas as pd\n",
    "import numpy as np\n",
    "import matplotlib.pyplot as plt\n",
    "import seaborn as sns"
   ]
  },
  {
   "cell_type": "code",
   "execution_count": null,
   "id": "f9c443c2",
   "metadata": {},
   "outputs": [],
   "source": [
    "df=pd.read_csv(\"tmdb_5000_movies.csv\")"
   ]
  },
  {
   "cell_type": "code",
   "execution_count": null,
   "id": "0d34a5c8",
   "metadata": {
    "scrolled": true
   },
   "outputs": [],
   "source": [
    "df1=pd.read_csv(\"tmdb_5000_credits.csv\")"
   ]
  },
  {
   "cell_type": "code",
   "execution_count": null,
   "id": "46194aec",
   "metadata": {},
   "outputs": [],
   "source": [
    "df=df.merge(df1,on=\"title\")#merging on common feature title"
   ]
  },
  {
   "cell_type": "code",
   "execution_count": null,
   "id": "1c58639f",
   "metadata": {},
   "outputs": [],
   "source": [
    "df.columns"
   ]
  },
  {
   "cell_type": "code",
   "execution_count": null,
   "id": "00a49b96",
   "metadata": {},
   "outputs": [],
   "source": [
    "df[\"original_language\"].value_counts()"
   ]
  },
  {
   "cell_type": "code",
   "execution_count": null,
   "id": "fa4b050b",
   "metadata": {},
   "outputs": [],
   "source": [
    "df[\"production_companies\"][0]"
   ]
  },
  {
   "cell_type": "code",
   "execution_count": null,
   "id": "be6d8661",
   "metadata": {},
   "outputs": [],
   "source": [
    "df[\"tagline\"]"
   ]
  },
  {
   "cell_type": "code",
   "execution_count": null,
   "id": "eb2df016",
   "metadata": {},
   "outputs": [],
   "source": [
    "df[\"title\"]"
   ]
  },
  {
   "cell_type": "code",
   "execution_count": null,
   "id": "1784deec",
   "metadata": {},
   "outputs": [],
   "source": [
    "df[\"crew\"][0]\n"
   ]
  },
  {
   "cell_type": "code",
   "execution_count": null,
   "id": "0b715124",
   "metadata": {},
   "outputs": [],
   "source": [
    "df=df[[\"movie_id\",\"title\",\"overview\",\"genres\",\"keywords\",\"cast\",\"crew\"]]"
   ]
  },
  {
   "cell_type": "code",
   "execution_count": null,
   "id": "613c2158",
   "metadata": {},
   "outputs": [],
   "source": [
    "df[\"genres\"].info()"
   ]
  },
  {
   "cell_type": "code",
   "execution_count": null,
   "id": "c8f94553",
   "metadata": {},
   "outputs": [],
   "source": [
    "\n",
    "df[\"genres\"][0]"
   ]
  },
  {
   "cell_type": "code",
   "execution_count": null,
   "id": "51915bde",
   "metadata": {},
   "outputs": [],
   "source": [
    "genres=list(df[\"genres\"])"
   ]
  },
  {
   "cell_type": "code",
   "execution_count": null,
   "id": "7721a8c9",
   "metadata": {},
   "outputs": [],
   "source": [
    "len(genres)"
   ]
  },
  {
   "cell_type": "code",
   "execution_count": null,
   "id": "16680498",
   "metadata": {},
   "outputs": [],
   "source": [
    "genres[1]"
   ]
  },
  {
   "cell_type": "code",
   "execution_count": null,
   "id": "d8c008ee",
   "metadata": {},
   "outputs": [],
   "source": [
    "new=[]\n",
    "for i in range(4803):\n",
    "        new.append(genres[i].split(\",\")) "
   ]
  },
  {
   "cell_type": "code",
   "execution_count": null,
   "id": "a0f67bcc",
   "metadata": {},
   "outputs": [],
   "source": [
    "new[2][1]"
   ]
  },
  {
   "cell_type": "code",
   "execution_count": null,
   "id": "a96e653b",
   "metadata": {},
   "outputs": [],
   "source": [
    "new[0][1].split(\":\")[1]"
   ]
  },
  {
   "cell_type": "code",
   "execution_count": null,
   "id": "ecc71c7b",
   "metadata": {},
   "outputs": [],
   "source": [
    "new[0][1].split(\":\")[1].strip(' \"}')"
   ]
  },
  {
   "cell_type": "code",
   "execution_count": null,
   "id": "355f6025",
   "metadata": {},
   "outputs": [],
   "source": [
    " new[0][3].split(\":\")[1].strip(' \"}')"
   ]
  },
  {
   "cell_type": "code",
   "execution_count": null,
   "id": "0257c559",
   "metadata": {},
   "outputs": [],
   "source": [
    "new[0][5].split(\":\")[1].strip(' \"}')"
   ]
  },
  {
   "cell_type": "code",
   "execution_count": null,
   "id": "33bc7ea2",
   "metadata": {},
   "outputs": [],
   "source": [
    "new[0][7].split(\":\")[1].strip(' \"}')"
   ]
  },
  {
   "cell_type": "code",
   "execution_count": null,
   "id": "53cf4a07",
   "metadata": {},
   "outputs": [],
   "source": [
    "new[0][7].split(\":\")[1].strip(' \"}]')"
   ]
  },
  {
   "cell_type": "code",
   "execution_count": null,
   "id": "eb4e2b72",
   "metadata": {},
   "outputs": [],
   "source": [
    "genre_name=[]\n",
    "for j in range(4809):\n",
    "    genre_name_temp = [] \n",
    "    i = 1 \n",
    "    while True:\n",
    "        try: \n",
    "            genre_name_temp.append(new[j][i].split(\":\")[1].strip(' \"}]'))\n",
    "            i += 2\n",
    "        except IndexError:  \n",
    "            break\n",
    "    genre_name.append(genre_name_temp)\n"
   ]
  },
  {
   "cell_type": "code",
   "execution_count": null,
   "id": "602edee7",
   "metadata": {},
   "outputs": [],
   "source": [
    "len(genre_name)\n"
   ]
  },
  {
   "cell_type": "code",
   "execution_count": null,
   "id": "e64aca51",
   "metadata": {},
   "outputs": [],
   "source": [
    "genre_name"
   ]
  },
  {
   "cell_type": "code",
   "execution_count": null,
   "id": "cb60e1f7",
   "metadata": {},
   "outputs": [],
   "source": [
    "df[\"genres\"]=genre_name"
   ]
  },
  {
   "cell_type": "code",
   "execution_count": null,
   "id": "9b30b2af",
   "metadata": {},
   "outputs": [],
   "source": [
    "df.head(5)"
   ]
  },
  {
   "cell_type": "code",
   "execution_count": null,
   "id": "f3dcc138",
   "metadata": {},
   "outputs": [],
   "source": [
    "df['genres'] = df['genres'].apply(lambda x: ', '.join(x))"
   ]
  },
  {
   "cell_type": "code",
   "execution_count": null,
   "id": "1d852fca",
   "metadata": {},
   "outputs": [],
   "source": [
    "cast=df[\"cast\"]"
   ]
  },
  {
   "cell_type": "code",
   "execution_count": null,
   "id": "44de4275",
   "metadata": {},
   "outputs": [],
   "source": [
    "cast=list(cast)"
   ]
  },
  {
   "cell_type": "code",
   "execution_count": null,
   "id": "b2c07a04",
   "metadata": {},
   "outputs": [],
   "source": [
    "len(cast)"
   ]
  },
  {
   "cell_type": "code",
   "execution_count": null,
   "id": "f1caeacc",
   "metadata": {},
   "outputs": [],
   "source": [
    "cast[0]"
   ]
  },
  {
   "cell_type": "code",
   "execution_count": null,
   "id": "267fb574",
   "metadata": {},
   "outputs": [],
   "source": [
    "new=[]\n",
    "for i in range(4803):\n",
    "        new.append(cast[i].split(\",\")) "
   ]
  },
  {
   "cell_type": "code",
   "execution_count": null,
   "id": "220f740b",
   "metadata": {},
   "outputs": [],
   "source": [
    "result = new[0][26].split(\":\")[1].strip(' \"\\'')\n",
    "result"
   ]
  },
  {
   "cell_type": "code",
   "execution_count": null,
   "id": "ede37836",
   "metadata": {},
   "outputs": [],
   "source": [
    "cast_name=[]\n",
    "for j in range(4809):\n",
    "    cast_name_temp = [] \n",
    "    i = 5  \n",
    "    while True:\n",
    "        try:\n",
    "            cast_name_temp.append(new[j][i].split(\":\")[1].strip(' \"\\''))#quotes hatane ke lioye\n",
    "            i += 7\n",
    "        except IndexError:  \n",
    "            break\n",
    "    cast_name.append(cast_name_temp)"
   ]
  },
  {
   "cell_type": "code",
   "execution_count": null,
   "id": "d48e59f6",
   "metadata": {},
   "outputs": [],
   "source": [
    "df[\"cast\"]=cast_name"
   ]
  },
  {
   "cell_type": "code",
   "execution_count": null,
   "id": "33d0176d",
   "metadata": {},
   "outputs": [],
   "source": [
    "df['cast'] = df['cast'].apply(lambda x: ', '.join(x))"
   ]
  },
  {
   "cell_type": "code",
   "execution_count": null,
   "id": "45b62a03",
   "metadata": {},
   "outputs": [],
   "source": [
    "import ast"
   ]
  },
  {
   "cell_type": "code",
   "execution_count": null,
   "id": "2e70c5d9",
   "metadata": {},
   "outputs": [],
   "source": [
    "def convert(text):\n",
    "    L = []\n",
    "    for i in ast.literal_eval(text):\n",
    "        L.append(i['name']) \n",
    "    return L "
   ]
  },
  {
   "cell_type": "code",
   "execution_count": null,
   "id": "cfee34ea",
   "metadata": {},
   "outputs": [],
   "source": [
    "df['keywords'] = df['keywords'].apply(convert)\n",
    "df.head()"
   ]
  },
  {
   "cell_type": "code",
   "execution_count": null,
   "id": "a3c90ec7",
   "metadata": {},
   "outputs": [],
   "source": [
    "def fetch_director(text):\n",
    "    L = []\n",
    "    for i in ast.literal_eval(text):\n",
    "        if i['job'] == 'Director':\n",
    "            L.append(i['name'])\n",
    "    return L "
   ]
  },
  {
   "cell_type": "code",
   "execution_count": null,
   "id": "66eb1850",
   "metadata": {},
   "outputs": [],
   "source": [
    "df['crew'] = df['crew'].apply(fetch_director)"
   ]
  },
  {
   "cell_type": "code",
   "execution_count": null,
   "id": "c01c21bf",
   "metadata": {},
   "outputs": [],
   "source": [
    "df[df[\"movie_id\"]==185008]"
   ]
  },
  {
   "cell_type": "code",
   "execution_count": null,
   "id": "c979d8cf",
   "metadata": {},
   "outputs": [],
   "source": [
    "df['crew'] = df['crew'].apply(lambda x: ', '.join(x))"
   ]
  },
  {
   "cell_type": "code",
   "execution_count": null,
   "id": "40c475c7",
   "metadata": {},
   "outputs": [],
   "source": [
    "df['keywords'] = df['keywords'].apply(lambda x: ', '.join(x))"
   ]
  },
  {
   "cell_type": "code",
   "execution_count": null,
   "id": "1c3f5484",
   "metadata": {},
   "outputs": [],
   "source": [
    "df.sample(5)"
   ]
  },
  {
   "cell_type": "code",
   "execution_count": null,
   "id": "557b4b31",
   "metadata": {},
   "outputs": [],
   "source": [
    "df['genres'] = df['genres'].apply(lambda x: ', '.join(item.replace(' ', '') for item in x.split(', ')))"
   ]
  },
  {
   "cell_type": "code",
   "execution_count": null,
   "id": "ecdddc81",
   "metadata": {},
   "outputs": [],
   "source": [
    "df['cast'] = df['cast'].apply(lambda x: ', '.join(item.replace(' ', '') for item in x.split(', ')))\n",
    "df['crew'] = df['crew'].apply(lambda x: ', '.join(item.replace(' ', '') for item in x.split(', ')))\n",
    "df['keywords'] = df['keywords'].apply(lambda x: ', '.join(item.replace(' ', '') for item in x.split(', ')))"
   ]
  },
  {
   "cell_type": "code",
   "execution_count": null,
   "id": "0119e760",
   "metadata": {},
   "outputs": [],
   "source": [
    "df[\"overview\"]=df[\"overview\"]+\"\"+df[\"genres\"]+df[\"keywords\"]+df[\"cast\"]+df[\"crew\"]"
   ]
  },
  {
   "cell_type": "code",
   "execution_count": null,
   "id": "98e164ef",
   "metadata": {},
   "outputs": [],
   "source": [
    "df=df.drop(columns=[\"keywords\",\"cast\",\"crew\",\"genres\"])"
   ]
  },
  {
   "cell_type": "code",
   "execution_count": null,
   "id": "998b639b",
   "metadata": {},
   "outputs": [],
   "source": [
    "df[\"overview\"]=df[\"overview\"].str.lower()"
   ]
  },
  {
   "cell_type": "code",
   "execution_count": null,
   "id": "87a12f4f",
   "metadata": {},
   "outputs": [],
   "source": [
    "df=df.rename(columns={\"overview\":\"tags\"})"
   ]
  },
  {
   "cell_type": "code",
   "execution_count": null,
   "id": "c519c7d1",
   "metadata": {
    "scrolled": true
   },
   "outputs": [],
   "source": [
    "type(df)"
   ]
  },
  {
   "cell_type": "code",
   "execution_count": null,
   "id": "28feb3a3",
   "metadata": {},
   "outputs": [],
   "source": [
    "df[\"title\"]"
   ]
  },
  {
   "cell_type": "code",
   "execution_count": null,
   "id": "afe7aa4f",
   "metadata": {},
   "outputs": [],
   "source": [
    "df.columns"
   ]
  },
  {
   "cell_type": "code",
   "execution_count": null,
   "id": "71f630e4",
   "metadata": {},
   "outputs": [],
   "source": [
    "df.sample()"
   ]
  },
  {
   "cell_type": "code",
   "execution_count": null,
   "id": "7fede90f",
   "metadata": {},
   "outputs": [],
   "source": [
    "from sklearn.feature_extraction.text import CountVectorizer\n",
    "cv = CountVectorizer(max_features=5500,stop_words='english')"
   ]
  },
  {
   "cell_type": "code",
   "execution_count": null,
   "id": "a80aacf1",
   "metadata": {},
   "outputs": [],
   "source": [
    "vector = cv.fit_transform(df['tags']).toarray()"
   ]
  },
  {
   "cell_type": "code",
   "execution_count": null,
   "id": "ab7ea6a4",
   "metadata": {},
   "outputs": [],
   "source": [
    "df['tags'] = df['tags'].fillna('')"
   ]
  },
  {
   "cell_type": "code",
   "execution_count": null,
   "id": "ecfcdd37",
   "metadata": {},
   "outputs": [],
   "source": [
    "vector = cv.fit_transform(df['tags']).toarray()"
   ]
  },
  {
   "cell_type": "code",
   "execution_count": null,
   "id": "04d7d2a3",
   "metadata": {},
   "outputs": [],
   "source": [
    "df.info()"
   ]
  },
  {
   "cell_type": "code",
   "execution_count": null,
   "id": "1e008bdd",
   "metadata": {},
   "outputs": [],
   "source": [
    "df= df.dropna(subset=['tags'])"
   ]
  },
  {
   "cell_type": "code",
   "execution_count": null,
   "id": "2f662bec",
   "metadata": {},
   "outputs": [],
   "source": [
    "vector = cv.fit_transform(df['tags']).toarray()"
   ]
  },
  {
   "cell_type": "code",
   "execution_count": null,
   "id": "465ef9a8",
   "metadata": {},
   "outputs": [],
   "source": [
    "vector"
   ]
  },
  {
   "cell_type": "code",
   "execution_count": null,
   "id": "455acc2c",
   "metadata": {},
   "outputs": [],
   "source": [
    "vector.shape"
   ]
  },
  {
   "cell_type": "code",
   "execution_count": null,
   "id": "8a829bc3",
   "metadata": {},
   "outputs": [],
   "source": [
    "cv.get_feature_names_out"
   ]
  },
  {
   "cell_type": "code",
   "execution_count": null,
   "id": "dd4c4697",
   "metadata": {},
   "outputs": [],
   "source": [
    "cv.get_feature_names_out()"
   ]
  },
  {
   "cell_type": "code",
   "execution_count": null,
   "id": "d7f966ca",
   "metadata": {},
   "outputs": [],
   "source": [
    "for i in list(cv.get_feature_names_out()):\n",
    "    print(i)"
   ]
  },
  {
   "cell_type": "code",
   "execution_count": null,
   "id": "3821e225",
   "metadata": {},
   "outputs": [],
   "source": [
    "len(cv.get_feature_names_out())"
   ]
  },
  {
   "cell_type": "code",
   "execution_count": null,
   "id": "b6379e8c",
   "metadata": {},
   "outputs": [],
   "source": [
    "import nltk"
   ]
  },
  {
   "cell_type": "code",
   "execution_count": null,
   "id": "5fcb9088",
   "metadata": {},
   "outputs": [],
   "source": [
    "from nltk.stem.porter import PorterStemmer\n",
    "ps=PorterStemmer()"
   ]
  },
  {
   "cell_type": "code",
   "execution_count": null,
   "id": "69ee4871",
   "metadata": {},
   "outputs": [],
   "source": [
    "def stem(data):\n",
    "    temp = []\n",
    "    for i in data.split():\n",
    "        temp.append(ps.stem(i))\n",
    "    return \" \".join(temp)"
   ]
  },
  {
   "cell_type": "code",
   "execution_count": null,
   "id": "a41e49f1",
   "metadata": {},
   "outputs": [],
   "source": [
    "ps.stem(\"reading\")"
   ]
  },
  {
   "cell_type": "code",
   "execution_count": null,
   "id": "41284b48",
   "metadata": {},
   "outputs": [],
   "source": [
    "stem(\"i am read reading \")"
   ]
  },
  {
   "cell_type": "code",
   "execution_count": null,
   "id": "bf298c33",
   "metadata": {},
   "outputs": [],
   "source": [
    "df[\"tags\"].apply(stem)"
   ]
  },
  {
   "cell_type": "code",
   "execution_count": null,
   "id": "f95397b7",
   "metadata": {},
   "outputs": [],
   "source": [
    "df[\"tags\"]=df[\"tags\"].apply(stem)"
   ]
  },
  {
   "cell_type": "code",
   "execution_count": null,
   "id": "e17feb9f",
   "metadata": {},
   "outputs": [],
   "source": [
    "from sklearn.feature_extraction.text import CountVectorizer\n",
    "cv2 = CountVectorizer(max_features=5500,stop_words='english')"
   ]
  },
  {
   "cell_type": "code",
   "execution_count": null,
   "id": "e534306c",
   "metadata": {},
   "outputs": [],
   "source": [
    "vector2 = cv2.fit_transform(df['tags']).toarray()"
   ]
  },
  {
   "cell_type": "code",
   "execution_count": null,
   "id": "ac636af1",
   "metadata": {},
   "outputs": [],
   "source": [
    "len(cv2.get_feature_names_out())"
   ]
  },
  {
   "cell_type": "code",
   "execution_count": null,
   "id": "05f644be",
   "metadata": {},
   "outputs": [],
   "source": [
    "from sklearn.metrics.pairwise import cosine_similarity"
   ]
  },
  {
   "cell_type": "code",
   "execution_count": null,
   "id": "ac1753d9",
   "metadata": {},
   "outputs": [],
   "source": [
    "similarity = cosine_similarity(vector2)"
   ]
  },
  {
   "cell_type": "code",
   "execution_count": null,
   "id": "5de48ec6",
   "metadata": {},
   "outputs": [],
   "source": [
    "similarity#nlp basics"
   ]
  },
  {
   "cell_type": "code",
   "execution_count": null,
   "id": "64828aa3",
   "metadata": {},
   "outputs": [],
   "source": [
    "similarity[0].shape"
   ]
  },
  {
   "cell_type": "code",
   "execution_count": null,
   "id": "b6e703f0",
   "metadata": {},
   "outputs": [],
   "source": [
    "\n",
    "def recommend(movie):\n",
    "    index = df[df['title'] == movie].index[0]\n",
    "    distances = sorted(list(enumerate(similarity[index])),reverse=True,key = lambda x: x[1])\n",
    "    for i in distances[1:6]:\n",
    "        print(df.iloc[i[0]].title)\n",
    "        time.sleep(0.8)"
   ]
  },
  {
   "cell_type": "code",
   "execution_count": null,
   "id": "8d59d429",
   "metadata": {},
   "outputs": [],
   "source": [
    "import time"
   ]
  },
  {
   "cell_type": "code",
   "execution_count": null,
   "id": "78404ce9",
   "metadata": {},
   "outputs": [],
   "source": [
    "recommend(\"Avatar\")"
   ]
  },
  {
   "cell_type": "code",
   "execution_count": null,
   "id": "314d22c3",
   "metadata": {},
   "outputs": [],
   "source": [
    "import pickle"
   ]
  },
  {
   "cell_type": "code",
   "execution_count": null,
   "id": "ca5389ed",
   "metadata": {},
   "outputs": [],
   "source": [
    "pickle.dump(df,open('movie_list.pkl','wb'))\n"
   ]
  },
  {
   "cell_type": "code",
   "execution_count": null,
   "id": "c06e322e",
   "metadata": {},
   "outputs": [],
   "source": [
    "df.to_dict()"
   ]
  },
  {
   "cell_type": "code",
   "execution_count": null,
   "id": "331a2030",
   "metadata": {},
   "outputs": [],
   "source": [
    "pickle.dump(df.to_dict(),open('movie_dict.pkl','wb'))\n"
   ]
  },
  {
   "cell_type": "code",
   "execution_count": null,
   "id": "6767817c",
   "metadata": {},
   "outputs": [],
   "source": [
    "pickle.dump(similarity,open('similarity.pkl','wb'))\n"
   ]
  },
  {
   "cell_type": "code",
   "execution_count": null,
   "id": "33a9e1e1",
   "metadata": {},
   "outputs": [],
   "source": []
  },
  {
   "cell_type": "code",
   "execution_count": null,
   "id": "18e0cecb",
   "metadata": {},
   "outputs": [],
   "source": []
  },
  {
   "cell_type": "code",
   "execution_count": null,
   "id": "43569f55",
   "metadata": {},
   "outputs": [],
   "source": []
  },
  {
   "cell_type": "code",
   "execution_count": null,
   "id": "8b2a4abc",
   "metadata": {},
   "outputs": [],
   "source": []
  },
  {
   "cell_type": "code",
   "execution_count": null,
   "id": "a35fa4a9",
   "metadata": {},
   "outputs": [],
   "source": []
  },
  {
   "cell_type": "code",
   "execution_count": null,
   "id": "040a5242",
   "metadata": {},
   "outputs": [],
   "source": []
  },
  {
   "cell_type": "code",
   "execution_count": null,
   "id": "53e5a711",
   "metadata": {},
   "outputs": [],
   "source": []
  }
 ],
 "metadata": {
  "kernelspec": {
   "display_name": "Python 3 (ipykernel)",
   "language": "python",
   "name": "python3"
  },
  "language_info": {
   "codemirror_mode": {
    "name": "ipython",
    "version": 3
   },
   "file_extension": ".py",
   "mimetype": "text/x-python",
   "name": "python",
   "nbconvert_exporter": "python",
   "pygments_lexer": "ipython3",
   "version": "3.12.1"
  }
 },
 "nbformat": 4,
 "nbformat_minor": 5
}
